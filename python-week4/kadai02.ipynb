{
 "cells": [
  {
   "cell_type": "code",
   "execution_count": 80,
   "metadata": {
    "collapsed": true
   },
   "outputs": [],
   "source": [
    "class MyRational:\n",
    "    def __init__(self, above, below):\n",
    "        self.above = above\n",
    "        self.below = below\n",
    "        self.ration = above/below\n",
    "    def ration(self):\n",
    "        return self.ration\n",
    "    \n",
    "    def __repr__(self):\n",
    "        if self.ration % 1 == 0:\n",
    "            return str(self.ration)\n",
    "        else:\n",
    "            return f'{self.above} / {self.below}'\n",
    "    def __add__(self, c2):\n",
    "        return MyRational(self.above/self.below + c2.above/c2.below, 1)\n",
    "    \n",
    "    def __mul__(self, c2):\n",
    "        return MyRational(self.above*c2.above, self.below*c2.below)"
   ]
  },
  {
   "cell_type": "code",
   "execution_count": 86,
   "metadata": {},
   "outputs": [],
   "source": [
    "class MyInteger(MyRational):\n",
    "    def __init__(self, above, below):\n",
    "        super().__init__(above, below)\n",
    "        self.ration = int(above/below)\n",
    "        self.fac = 1\n",
    "    def factorial(self):\n",
    "            for i in range(1,self.ration+1):\n",
    "                self.fac = self.fac * i\n",
    "            return self.fac\n",
    "           # for i in range(1,(self.ration %1 )+1):\n",
    "            #    self.fac = i * self.fac\n",
    "    def is_prime(self):\n",
    "        for i in range(2,self.ration):\n",
    "            if self.ration % i == 0:\n",
    "                print(True)"
   ]
  },
  {
   "cell_type": "code",
   "execution_count": 90,
   "metadata": {},
   "outputs": [],
   "source": [
    "s = MyInteger(4,1)"
   ]
  },
  {
   "cell_type": "code",
   "execution_count": 91,
   "metadata": {},
   "outputs": [
    {
     "data": {
      "text/plain": [
       "24"
      ]
     },
     "execution_count": 91,
     "metadata": {},
     "output_type": "execute_result"
    }
   ],
   "source": [
    "s.factorial()"
   ]
  },
  {
   "cell_type": "code",
   "execution_count": null,
   "metadata": {
    "collapsed": true
   },
   "outputs": [],
   "source": []
  },
  {
   "cell_type": "code",
   "execution_count": null,
   "metadata": {
    "collapsed": true
   },
   "outputs": [],
   "source": []
  }
 ],
 "metadata": {
  "kernelspec": {
   "display_name": "Python 3",
   "language": "python",
   "name": "python3"
  },
  "language_info": {
   "codemirror_mode": {
    "name": "ipython",
    "version": 3
   },
   "file_extension": ".py",
   "mimetype": "text/x-python",
   "name": "python",
   "nbconvert_exporter": "python",
   "pygments_lexer": "ipython3",
   "version": "3.6.3"
  }
 },
 "nbformat": 4,
 "nbformat_minor": 2
}
