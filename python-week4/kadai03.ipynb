{
 "cells": [
  {
   "cell_type": "code",
   "execution_count": 47,
   "metadata": {},
   "outputs": [],
   "source": [
    "class Matrix:\n",
    "    def __init__(self, a11, a12, a21, a22):\n",
    "        self.a11 = a11\n",
    "        self.a12 = a12\n",
    "        self.a21 = a21\n",
    "        self.a22 = a22\n",
    "        \n",
    "    def __repr__(self):\n",
    "        s = f'[{self.a11}, '\n",
    "        s += f'{self.a12}]\\n'\n",
    "        s += f'[{self.a21}, '\n",
    "        s += f'{self.a22}]\\n'  \n",
    "        return s   \n",
    "    \n",
    "    def __add__(self, m2):\n",
    "        return Matrix(self.a11 + m2.a11, self.a12 + m2.a12,self.a21 + m2.a21,self.a22 + m2.a22)\n",
    "    \n",
    "    def __sub__(self, m2):\n",
    "        return Matrix(self.a11 - m2.a11, self.a12 - m2.a12,self.a21 - m2.a21,self.a22 - m2.a22)\n",
    "    \n",
    "    def __mul__(self, m2):\n",
    "        a11 = self.a11 * m2.a11 + self.a12 * m2.a21\n",
    "        a12 = self.a11 * m2.a12 + self.a12 * m2.a22\n",
    "        a21 = self.a21 * m2.a11 + self.a22 * m2.a21\n",
    "        a22 = self.a21 * m2.a12 + self.a22 * m2.a22\n",
    "        return Matrix(a11,a12,a21,a22)\n",
    "    \n",
    "    def __pow__(self,n):\n",
    "        for i in range(0,n):\n",
    "            a11 = self.a11 * self.a11 + self.a12 * self.a21\n",
    "            a12 = self.a11 * self.a12 + self.a12 * self.a22\n",
    "            a21 = self.a21 * self.a11 + self.a22 * self.a21\n",
    "            a22 = self.a21 * self.a12 + self.a22 * self.a22\n",
    "            self.a11 = a11\n",
    "            self.a12 = a12\n",
    "            self.a21 = a21\n",
    "            self.a22 = a22\n",
    "        return Matrix(a11,a12,a21,a22)   "
   ]
  },
  {
   "cell_type": "code",
   "execution_count": 48,
   "metadata": {
    "collapsed": true
   },
   "outputs": [],
   "source": [
    "m1 = Matrix(1,1,1,1)"
   ]
  },
  {
   "cell_type": "code",
   "execution_count": 49,
   "metadata": {
    "collapsed": true
   },
   "outputs": [],
   "source": [
    "m2 = Matrix(1,0,0,1)"
   ]
  },
  {
   "cell_type": "code",
   "execution_count": 50,
   "metadata": {},
   "outputs": [
    {
     "data": {
      "text/plain": [
       "[1, 1]\n",
       "[1, 1]"
      ]
     },
     "execution_count": 50,
     "metadata": {},
     "output_type": "execute_result"
    }
   ],
   "source": [
    "m1 * m2"
   ]
  },
  {
   "cell_type": "code",
   "execution_count": 51,
   "metadata": {},
   "outputs": [
    {
     "data": {
      "text/plain": [
       "[8, 8]\n",
       "[8, 8]"
      ]
     },
     "execution_count": 51,
     "metadata": {},
     "output_type": "execute_result"
    }
   ],
   "source": [
    "m1 ** 2"
   ]
  },
  {
   "cell_type": "code",
   "execution_count": null,
   "metadata": {
    "collapsed": true
   },
   "outputs": [],
   "source": []
  },
  {
   "cell_type": "code",
   "execution_count": null,
   "metadata": {
    "collapsed": true
   },
   "outputs": [],
   "source": []
  }
 ],
 "metadata": {
  "kernelspec": {
   "display_name": "Python 3",
   "language": "python",
   "name": "python3"
  },
  "language_info": {
   "codemirror_mode": {
    "name": "ipython",
    "version": 3
   },
   "file_extension": ".py",
   "mimetype": "text/x-python",
   "name": "python",
   "nbconvert_exporter": "python",
   "pygments_lexer": "ipython3",
   "version": "3.6.3"
  }
 },
 "nbformat": 4,
 "nbformat_minor": 2
}
