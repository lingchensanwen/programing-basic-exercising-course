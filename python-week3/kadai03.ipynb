{
 "cells": [
  {
   "cell_type": "code",
   "execution_count": 42,
   "metadata": {},
   "outputs": [],
   "source": [
    "import matplotlib.pyplot as plt\n",
    "import random\n",
    "%matplotlib inline\n",
    "class RandomWalk:\n",
    "    def __init__(self,p,x0):\n",
    "        self.p = p\n",
    "        self.x0 = x0\n",
    "        self.i = 0\n",
    "    def next(self):\n",
    "        self.i = self.i + 1\n",
    "        ms = []\n",
    "        ys = []\n",
    "        x = self.x0\n",
    "        r = random.random()\n",
    "        if r <= self.p:\n",
    "            ys.append(x + 1)\n",
    "            x = x + 1\n",
    "        else:\n",
    "            ys.append(x - 1)\n",
    "            x = x - 1\n",
    "        ms.append(self.i)\n",
    "        return ys\n",
    "r = RandomWalk(p = 0.6,x0 = 0)"
   ]
  },
  {
   "cell_type": "code",
   "execution_count": 43,
   "metadata": {},
   "outputs": [
    {
     "data": {
      "text/plain": [
       "[-1]"
      ]
     },
     "execution_count": 43,
     "metadata": {},
     "output_type": "execute_result"
    }
   ],
   "source": [
    "r.next()"
   ]
  },
  {
   "cell_type": "code",
   "execution_count": 44,
   "metadata": {
    "collapsed": true
   },
   "outputs": [],
   "source": [
    "l = [r.next() for i in range(100)]"
   ]
  },
  {
   "cell_type": "code",
   "execution_count": 45,
   "metadata": {},
   "outputs": [
    {
     "name": "stdout",
     "output_type": "stream",
     "text": [
      "[[-1], [1], [1], [1], [-1], [1], [1], [1], [-1], [-1], [1], [-1], [1], [1], [-1], [-1], [1], [-1], [1], [1], [1], [-1], [1], [-1], [-1], [1], [1], [1], [1], [1], [-1], [-1], [-1], [-1], [1], [-1], [-1], [-1], [1], [-1], [1], [-1], [-1], [1], [-1], [1], [-1], [-1], [1], [1], [1], [1], [1], [1], [1], [1], [1], [-1], [1], [-1], [-1], [1], [-1], [-1], [1], [-1], [1], [-1], [-1], [-1], [1], [-1], [1], [1], [1], [1], [1], [1], [-1], [-1], [-1], [1], [-1], [1], [-1], [1], [1], [1], [1], [-1], [1], [1], [1], [1], [1], [-1], [-1], [1], [-1], [1]]\n"
     ]
    }
   ],
   "source": [
    "print(l)"
   ]
  },
  {
   "cell_type": "code",
   "execution_count": null,
   "metadata": {
    "collapsed": true
   },
   "outputs": [],
   "source": []
  }
 ],
 "metadata": {
  "kernelspec": {
   "display_name": "Python 3",
   "language": "python",
   "name": "python3"
  },
  "language_info": {
   "codemirror_mode": {
    "name": "ipython",
    "version": 3
   },
   "file_extension": ".py",
   "mimetype": "text/x-python",
   "name": "python",
   "nbconvert_exporter": "python",
   "pygments_lexer": "ipython3",
   "version": "3.6.3"
  }
 },
 "nbformat": 4,
 "nbformat_minor": 2
}
