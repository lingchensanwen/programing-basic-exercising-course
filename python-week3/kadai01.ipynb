{
 "cells": [
  {
   "cell_type": "code",
   "execution_count": 100,
   "metadata": {},
   "outputs": [],
   "source": [
    "class Matrix:\n",
    "    def __init__(self, a11, a12, a21, a22):\n",
    "        self.a11 = a11\n",
    "        self.a12 = a12\n",
    "        self.a21 = a21\n",
    "        self.a22 = a22\n",
    "        \n",
    "    def __repr__(self):\n",
    "        s = f'[{self.a11}, '\n",
    "        s += f'{self.a12}]\\n'\n",
    "        s += f'[{self.a21}, '\n",
    "        s += f'{self.a22}]\\n'  \n",
    "        return s   \n",
    "    \n",
    "    def add(self, m2):\n",
    "        a11 = self.a11 + m2.a11\n",
    "        a12 = self.a12 + m2.a12\n",
    "        a21 = self.a21 + m2.a21\n",
    "        a22 = self.a22 + m2.a22\n",
    "        return Matrix(a11,a12,a21,a22)\n",
    "    \n",
    "    def mul(self, m2):\n",
    "        a11 = self.a11 * m2.a11 + self.a12 * m2.a21\n",
    "        a12 = self.a11 * m2.a12 + self.a12 * m2.a22\n",
    "        a21 = self.a21 * m2.a11 + self.a22 * m2.a21\n",
    "        a22 = self.a21 * m2.a12 + self.a22 * m2.a22\n",
    "        return Matrix(a11,a12,a21,a22)"
   ]
  },
  {
   "cell_type": "code",
   "execution_count": 101,
   "metadata": {},
   "outputs": [],
   "source": [
    "m1 = Matrix(1,2,5,1)\n",
    "m2 = Matrix(1,0,0,1)"
   ]
  },
  {
   "cell_type": "code",
   "execution_count": 103,
   "metadata": {},
   "outputs": [
    {
     "name": "stdout",
     "output_type": "stream",
     "text": [
      "m1 is as:\n",
      "\n",
      "[1, 2]\n",
      "[5, 1]\n",
      "\n"
     ]
    }
   ],
   "source": [
    "print('m1 is as:\\n')\n",
    "print(m1)"
   ]
  },
  {
   "cell_type": "code",
   "execution_count": 104,
   "metadata": {},
   "outputs": [
    {
     "name": "stdout",
     "output_type": "stream",
     "text": [
      "m2 is as:\n",
      "\n",
      "[1, 0]\n",
      "[0, 1]\n",
      "\n"
     ]
    }
   ],
   "source": [
    "print('m2 is as:\\n')\n",
    "print(m2)"
   ]
  },
  {
   "cell_type": "code",
   "execution_count": 105,
   "metadata": {},
   "outputs": [
    {
     "name": "stdout",
     "output_type": "stream",
     "text": [
      "the add of m1 and m2 is:\n",
      "\n",
      "[2, 2]\n",
      "[5, 2]\n",
      "\n"
     ]
    }
   ],
   "source": [
    "print('the add of m1 and m2 is:\\n')\n",
    "print(m1.add(m2))"
   ]
  },
  {
   "cell_type": "code",
   "execution_count": 106,
   "metadata": {},
   "outputs": [
    {
     "name": "stdout",
     "output_type": "stream",
     "text": [
      "the mul of m1 and m2 is:\n",
      "\n",
      "[1, 2]\n",
      "[5, 1]\n",
      "\n"
     ]
    }
   ],
   "source": [
    "print('the mul of m1 and m2 is:\\n')\n",
    "print(m1.mul(m2))"
   ]
  },
  {
   "cell_type": "code",
   "execution_count": null,
   "metadata": {
    "collapsed": true
   },
   "outputs": [],
   "source": []
  }
 ],
 "metadata": {
  "kernelspec": {
   "display_name": "Python 3",
   "language": "python",
   "name": "python3"
  },
  "language_info": {
   "codemirror_mode": {
    "name": "ipython",
    "version": 3
   },
   "file_extension": ".py",
   "mimetype": "text/x-python",
   "name": "python",
   "nbconvert_exporter": "python",
   "pygments_lexer": "ipython3",
   "version": "3.6.1"
  }
 },
 "nbformat": 4,
 "nbformat_minor": 2
}
