{
 "cells": [
  {
   "cell_type": "code",
   "execution_count": 1,
   "metadata": {},
   "outputs": [],
   "source": [
    "import sympy \n",
    "sympy.init_printing()\n",
    "x = sympy.Symbol('x')\n",
    "def f(x):\n",
    "    return f(x)"
   ]
  },
  {
   "cell_type": "code",
   "execution_count": 2,
   "metadata": {},
   "outputs": [],
   "source": [
    "def taylor(f,x,a,n):\n",
    "    sum = 0\n",
    "    below = 1\n",
    "    \n",
    "    for i in range(n):\n",
    "        y = sympy.limit(f,x,a)\n",
    "        f = sympy.diff(f,x)\n",
    "        if(i != 0):\n",
    "            below = i*below\n",
    "        else:\n",
    "            below = 1\n",
    "        sum = sum + (y/below)*((x-a)**i)\n",
    "    return sum\n",
    "    "
   ]
  },
  {
   "cell_type": "code",
   "execution_count": 3,
   "metadata": {},
   "outputs": [
    {
     "data": {
      "image/png": "[encoded data removed]",
      "text/latex": [
       "$$- \\frac{x^{3}}{6} + x$$"
      ],
      "text/plain": [
       "   3    \n",
       "  x     \n",
       "- ── + x\n",
       "  6     "
      ]
     },
     "execution_count": 3,
     "metadata": {},
     "output_type": "execute_result"
    }
   ],
   "source": [
    "taylor(sympy.sin(x),x,0,4)"
   ]
  }
 ],
 "metadata": {
  "kernelspec": {
   "display_name": "Python 3",
   "language": "python",
   "name": "python3"
  },
  "language_info": {
   "codemirror_mode": {
    "name": "ipython",
    "version": 3
   },
   "file_extension": ".py",
   "mimetype": "text/x-python",
   "name": "python",
   "nbconvert_exporter": "python",
   "pygments_lexer": "ipython3",
   "version": "3.6.3"
  }
 },
 "nbformat": 4,
 "nbformat_minor": 2
}
