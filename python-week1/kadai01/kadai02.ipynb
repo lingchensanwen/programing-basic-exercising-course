{
 "cells": [
  {
   "cell_type": "code",
   "execution_count": 40,
   "metadata": {},
   "outputs": [],
   "source": [
    "def Prime(x):\n",
    "    i = 3\n",
    "    flag = 1\n",
    "    while i <= x:\n",
    "        j = 2\n",
    "        while j < i:\n",
    "            if i % j == 0:\n",
    "                flag = 0\n",
    "                break;\n",
    "            j = j + 1\n",
    "        if flag == 1:\n",
    "            a.append(i)\n",
    "        flag = 1\n",
    "        i = i + 1"
   ]
  },
  {
   "cell_type": "code",
   "execution_count": 41,
   "metadata": {},
   "outputs": [],
   "source": [
    "a=[2]\n",
    "Prime(1000)"
   ]
  },
  {
   "cell_type": "code",
   "execution_count": 42,
   "metadata": {},
   "outputs": [],
   "source": [
    "multi = 1\n",
    "for i in a:\n",
    "    multi = multi * (1-(1.0/(i*i))) "
   ]
  },
  {
   "cell_type": "code",
   "execution_count": 43,
   "metadata": {},
   "outputs": [
    {
     "name": "stdout",
     "output_type": "stream",
     "text": [
      "3.141393184787928\n"
     ]
    }
   ],
   "source": [
    "import math\n",
    "pi = math.sqrt(6/multi)\n",
    "print(pi)"
   ]
  },
  {
   "cell_type": "code",
   "execution_count": null,
   "metadata": {
    "collapsed": true
   },
   "outputs": [],
   "source": []
  }
 ],
 "metadata": {
  "kernelspec": {
   "display_name": "Python 3",
   "language": "python",
   "name": "python3"
  },
  "language_info": {
   "codemirror_mode": {
    "name": "ipython",
    "version": 3
   },
   "file_extension": ".py",
   "mimetype": "text/x-python",
   "name": "python",
   "nbconvert_exporter": "python",
   "pygments_lexer": "ipython3",
   "version": "3.6.1"
  }
 },
 "nbformat": 4,
 "nbformat_minor": 2
}
