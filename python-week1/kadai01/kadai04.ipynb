{
 "cells": [
  {
   "cell_type": "code",
   "execution_count": 252,
   "metadata": {},
   "outputs": [],
   "source": [
    "a = 'http://hello.com'"
   ]
  },
  {
   "cell_type": "code",
   "execution_count": 253,
   "metadata": {},
   "outputs": [],
   "source": [
    "url_dict = {}"
   ]
  },
  {
   "cell_type": "code",
   "execution_count": 254,
   "metadata": {},
   "outputs": [],
   "source": [
    "def generate_short_url(a):\n",
    "    b = a.__hash__()\n",
    "    c = ''\n",
    "    while 1:\n",
    "        b = b/62\n",
    "        d = int(b%62)\n",
    "        if(0 <=d and d <= 9):\n",
    "            c = c + (chr(d+48))\n",
    "        if(10 <= d and d <= 35):\n",
    "            c = c + (chr(d-10+97))\n",
    "        if(36 <= d and d < 62):\n",
    "            c = c + (chr(d-36+65))\n",
    "        if(b < 62):\n",
    "            break\n",
    "    c = c[::-1]\n",
    "    print(c) \n",
    "    url_dict[a] = c"
   ]
  },
  {
   "cell_type": "code",
   "execution_count": 255,
   "metadata": {},
   "outputs": [
    {
     "name": "stdout",
     "output_type": "stream",
     "text": [
      "6QNTbVYDbq\n"
     ]
    }
   ],
   "source": [
    "generate_short_url(a)"
   ]
  },
  {
   "cell_type": "code",
   "execution_count": 256,
   "metadata": {},
   "outputs": [],
   "source": [
    "def get_long_url(a):\n",
    "    for i in url_dict:\n",
    "        if url_dict[i] == a:\n",
    "            return i\n",
    "    return False"
   ]
  },
  {
   "cell_type": "code",
   "execution_count": 257,
   "metadata": {},
   "outputs": [
    {
     "name": "stdout",
     "output_type": "stream",
     "text": [
      "{'http://hello.com': '6QNTbVYDbq'}\n"
     ]
    },
    {
     "data": {
      "text/plain": [
       "'http://hello.com'"
      ]
     },
     "execution_count": 257,
     "metadata": {},
     "output_type": "execute_result"
    }
   ],
   "source": [
    "print(url_dict)\n",
    "get_long_url('6QNTbVYDbq')"
   ]
  }
 ],
 "metadata": {
  "kernelspec": {
   "display_name": "Python 3",
   "language": "python",
   "name": "python3"
  },
  "language_info": {
   "codemirror_mode": {
    "name": "ipython",
    "version": 3
   },
   "file_extension": ".py",
   "mimetype": "text/x-python",
   "name": "python",
   "nbconvert_exporter": "python",
   "pygments_lexer": "ipython3",
   "version": "3.6.3"
  }
 },
 "nbformat": 4,
 "nbformat_minor": 2
}
