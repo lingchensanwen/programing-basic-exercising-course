{
 "cells": [
  {
   "cell_type": "code",
   "execution_count": 18,
   "metadata": {},
   "outputs": [
    {
     "name": "stdout",
     "output_type": "stream",
     "text": [
      "[1, 2, 3, 6, 7, 8, 9, 16, 27]\n"
     ]
    }
   ],
   "source": [
    "a = [1,6,8,9,2,7,3,16,27]\n",
    "j = len(a)\n",
    "while j > 0:\n",
    "    i = 0\n",
    "    while i < j-1:\n",
    "        if a[i] > a[i+1]:\n",
    "            temp = a[i+1]\n",
    "            a[i+1] = a[i]\n",
    "            a[i] = temp\n",
    "        i = i + 1\n",
    "    j = j - 1\n",
    "print(a)    "
   ]
  }
 ],
 "metadata": {
  "kernelspec": {
   "display_name": "Python 3",
   "language": "python",
   "name": "python3"
  },
  "language_info": {
   "codemirror_mode": {
    "name": "ipython",
    "version": 3
   },
   "file_extension": ".py",
   "mimetype": "text/x-python",
   "name": "python",
   "nbconvert_exporter": "python",
   "pygments_lexer": "ipython3",
   "version": "3.6.1"
  }
 },
 "nbformat": 4,
 "nbformat_minor": 2
}
