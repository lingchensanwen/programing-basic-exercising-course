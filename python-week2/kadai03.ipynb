{
 "cells": [
  {
   "cell_type": "code",
   "execution_count": 25,
   "metadata": {},
   "outputs": [
    {
     "data": {
      "image/png": "[encoded data removed]",
      "text/plain": [
       "<matplotlib.figure.Figure at 0x11a17df60>"
      ]
     },
     "metadata": {},
     "output_type": "display_data"
    }
   ],
   "source": [
    "import matplotlib.pyplot as plt\n",
    "import random\n",
    "%matplotlib inline\n",
    "def random_work(x0,p):\n",
    "    ms = []\n",
    "    ys = []\n",
    "    x = x0\n",
    "    for i in range(1000):\n",
    "        r = random.random()\n",
    "        if r <= p:\n",
    "            ys.append(x + 1)\n",
    "            x = x + 1\n",
    "        else:\n",
    "            ys.append(x - 1)\n",
    "            x = x - 1\n",
    "        ms.append(i)\n",
    "    plt.scatter(ms,ys,s=0.1)\n",
    "random_work(0,0.5)"
   ]
  },
  {
   "cell_type": "code",
   "execution_count": null,
   "metadata": {
    "collapsed": true
   },
   "outputs": [],
   "source": []
  }
 ],
 "metadata": {
  "kernelspec": {
   "display_name": "Python 3",
   "language": "python",
   "name": "python3"
  },
  "language_info": {
   "codemirror_mode": {
    "name": "ipython",
    "version": 3
   },
   "file_extension": ".py",
   "mimetype": "text/x-python",
   "name": "python",
   "nbconvert_exporter": "python",
   "pygments_lexer": "ipython3",
   "version": "3.6.3"
  }
 },
 "nbformat": 4,
 "nbformat_minor": 2
}
